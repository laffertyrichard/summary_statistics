{
 "cells": [
  {
   "cell_type": "code",
   "execution_count": 1,
   "metadata": {},
   "outputs": [],
   "source": [
    "import numpy as np\n",
    "import pandas as pd\n",
    "import "
   ]
  },
  {
   "cell_type": "code",
   "execution_count": 14,
   "metadata": {},
   "outputs": [],
   "source": [
    "ages = [14, 12, 11, 10, 8, 6, 8]\n",
    "def brady_bunch(ages):\n",
    "    print('mean: ', np.mean(ages))\n",
    "    print('median: ', np.median(ages))\n",
    "    print('variance: ', np.var(ages))\n",
    "    print('standard deviation: ', np.std(ages))\n",
    "    print('standard error: ', np.std(ages)/np.sqrt(len(ages) - 1))\n",
    "    \n",
    "    "
   ]
  },
  {
   "cell_type": "code",
   "execution_count": 10,
   "metadata": {},
   "outputs": [
    {
     "name": "stdout",
     "output_type": "stream",
     "text": [
      "mean:  9.857142857142858\n",
      "median:  10.0\n",
      "variance:  6.408163265306122\n",
      "standard deviation:  2.531435020952764\n",
      "standard error:  1.0334540197243194\n"
     ]
    }
   ],
   "source": [
    "brady_bunch(ages)"
   ]
  },
  {
   "cell_type": "markdown",
   "metadata": {},
   "source": [
    "mean and median are close enough to use mean as the indicator for central tendency \n",
    "for the same reason, standard deviation is the proper indicator for variance"
   ]
  },
  {
   "cell_type": "code",
   "execution_count": 12,
   "metadata": {},
   "outputs": [
    {
     "name": "stdout",
     "output_type": "stream",
     "text": [
      "mean:  10.0\n",
      "median:  10.0\n",
      "variance:  5.428571428571429\n",
      "standard deviation:  2.32992949004287\n",
      "standard error:  0.951189731211342\n"
     ]
    }
   ],
   "source": [
    "new_ages = [14, 12, 11, 10, 8, 7, 8]\n",
    "brady_bunch(new_ages)"
   ]
  },
  {
   "cell_type": "code",
   "execution_count": 13,
   "metadata": {},
   "outputs": [
    {
     "name": "stdout",
     "output_type": "stream",
     "text": [
      "mean:  9.0\n",
      "median:  10.0\n",
      "variance:  15.428571428571429\n",
      "standard deviation:  3.927922024247863\n",
      "standard error:  1.6035674514745466\n"
     ]
    }
   ],
   "source": [
    "get_rid_of_oliver = [14, 12, 11, 10, 8, 7, 1]\n",
    "brady_bunch(get_rid_of_oliver)"
   ]
  },
  {
   "cell_type": "markdown",
   "metadata": {},
   "source": [
    "because of the outlier, we will use median instead of mean as it is a better indicator of central tendency"
   ]
  },
  {
   "cell_type": "code",
   "execution_count": 15,
   "metadata": {},
   "outputs": [
    {
     "name": "stdout",
     "output_type": "stream",
     "text": [
      "18.5\n"
     ]
    }
   ],
   "source": [
    "percent_fans = [20, 23, 17, 5]\n",
    "percent_median = np.median(percent_fans)\n",
    "print(percent_median)"
   ]
  },
  {
   "cell_type": "markdown",
   "metadata": {},
   "source": [
    "because sciphi fanatic is an outlier in the dataset, then we use the median to determine the proper percent of brady bunch fans. Therefore the amount of fans is approximately 18.5%"
   ]
  }
 ],
 "metadata": {
  "kernelspec": {
   "display_name": "Python 3",
   "language": "python",
   "name": "python3"
  },
  "language_info": {
   "codemirror_mode": {
    "name": "ipython",
    "version": 3
   },
   "file_extension": ".py",
   "mimetype": "text/x-python",
   "name": "python",
   "nbconvert_exporter": "python",
   "pygments_lexer": "ipython3",
   "version": "3.7.3"
  }
 },
 "nbformat": 4,
 "nbformat_minor": 2
}
